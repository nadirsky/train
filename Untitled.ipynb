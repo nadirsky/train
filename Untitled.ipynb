{
 "cells": [
  {
   "cell_type": "code",
   "execution_count": 1,
   "metadata": {},
   "outputs": [],
   "source": [
    "import pandas as pd\n",
    "import json\n",
    "import os"
   ]
  },
  {
   "cell_type": "code",
   "execution_count": 2,
   "metadata": {},
   "outputs": [],
   "source": [
    "# Reading the json as a dict\n",
    "with open('sample_files/sample_scenario.json') as json_data:\n",
    "    data = json.load(json_data)"
   ]
  },
  {
   "cell_type": "code",
   "execution_count": 3,
   "metadata": {},
   "outputs": [],
   "source": [
    "service_intentions = pd.DataFrame.from_dict(data['service_intentions'])\n",
    "routes = pd.DataFrame.from_dict(data['routes'])\n",
    "resources = pd.DataFrame.from_dict(data['resources'])"
   ]
  },
  {
   "cell_type": "code",
   "execution_count": 4,
   "metadata": {},
   "outputs": [
    {
     "data": {
      "text/plain": [
       "'SBB_challenge_sample_scenario_with_routing_alternatives'"
      ]
     },
     "execution_count": 4,
     "metadata": {},
     "output_type": "execute_result"
    }
   ],
   "source": [
    "data['label']"
   ]
  },
  {
   "cell_type": "code",
   "execution_count": 13,
   "metadata": {},
   "outputs": [
    {
     "data": {
      "text/plain": [
       "id                                                                    111\n",
       "route                                                                 111\n",
       "section_requirements    [{'sequence_number': 1, 'section_marker': 'A',...\n",
       "Name: 0, dtype: object"
      ]
     },
     "execution_count": 13,
     "metadata": {},
     "output_type": "execute_result"
    }
   ],
   "source": [
    "service_intentions.loc[0]"
   ]
  },
  {
   "cell_type": "code",
   "execution_count": 5,
   "metadata": {},
   "outputs": [
    {
     "data": {
      "text/plain": [
       "[{'sequence_number': 1,\n",
       "  'section_marker': 'A',\n",
       "  'type': 'start',\n",
       "  'entry_earliest': '08:20:00',\n",
       "  'entry_delay_weight': 1,\n",
       "  'exit_delay_weight': 1,\n",
       "  'connections': None},\n",
       " {'sequence_number': 2,\n",
       "  'section_marker': 'B',\n",
       "  'type': 'halt',\n",
       "  'min_stopping_time': 'PT3M',\n",
       "  'entry_delay_weight': 1,\n",
       "  'exit_earliest': '08:30:00',\n",
       "  'exit_delay_weight': 1,\n",
       "  'connections': None},\n",
       " {'sequence_number': 3,\n",
       "  'section_marker': 'C',\n",
       "  'type': 'ende',\n",
       "  'entry_delay_weight': 1,\n",
       "  'exit_latest': '08:50:00',\n",
       "  'exit_delay_weight': 1,\n",
       "  'connections': None}]"
      ]
     },
     "execution_count": 5,
     "metadata": {},
     "output_type": "execute_result"
    }
   ],
   "source": [
    "service_intentions['section_requirements'][0]"
   ]
  },
  {
   "cell_type": "code",
   "execution_count": 6,
   "metadata": {},
   "outputs": [],
   "source": [
    "# routes"
   ]
  },
  {
   "cell_type": "code",
   "execution_count": 7,
   "metadata": {},
   "outputs": [],
   "source": [
    "# routes['route_paths'][0]"
   ]
  },
  {
   "cell_type": "code",
   "execution_count": 8,
   "metadata": {},
   "outputs": [
    {
     "data": {
      "text/html": [
       "<div>\n",
       "<style scoped>\n",
       "    .dataframe tbody tr th:only-of-type {\n",
       "        vertical-align: middle;\n",
       "    }\n",
       "\n",
       "    .dataframe tbody tr th {\n",
       "        vertical-align: top;\n",
       "    }\n",
       "\n",
       "    .dataframe thead th {\n",
       "        text-align: right;\n",
       "    }\n",
       "</style>\n",
       "<table border=\"1\" class=\"dataframe\">\n",
       "  <thead>\n",
       "    <tr style=\"text-align: right;\">\n",
       "      <th></th>\n",
       "      <th>following_allowed</th>\n",
       "      <th>id</th>\n",
       "      <th>release_time</th>\n",
       "    </tr>\n",
       "  </thead>\n",
       "  <tbody>\n",
       "    <tr>\n",
       "      <th>0</th>\n",
       "      <td>False</td>\n",
       "      <td>A1</td>\n",
       "      <td>PT30S</td>\n",
       "    </tr>\n",
       "    <tr>\n",
       "      <th>1</th>\n",
       "      <td>False</td>\n",
       "      <td>A2</td>\n",
       "      <td>PT30S</td>\n",
       "    </tr>\n",
       "    <tr>\n",
       "      <th>2</th>\n",
       "      <td>False</td>\n",
       "      <td>A3</td>\n",
       "      <td>PT30S</td>\n",
       "    </tr>\n",
       "    <tr>\n",
       "      <th>3</th>\n",
       "      <td>False</td>\n",
       "      <td>AB</td>\n",
       "      <td>PT30S</td>\n",
       "    </tr>\n",
       "    <tr>\n",
       "      <th>4</th>\n",
       "      <td>False</td>\n",
       "      <td>BX_1</td>\n",
       "      <td>PT30S</td>\n",
       "    </tr>\n",
       "    <tr>\n",
       "      <th>5</th>\n",
       "      <td>False</td>\n",
       "      <td>B</td>\n",
       "      <td>PT30S</td>\n",
       "    </tr>\n",
       "    <tr>\n",
       "      <th>6</th>\n",
       "      <td>False</td>\n",
       "      <td>BX_2</td>\n",
       "      <td>PT30S</td>\n",
       "    </tr>\n",
       "    <tr>\n",
       "      <th>7</th>\n",
       "      <td>False</td>\n",
       "      <td>XY_1</td>\n",
       "      <td>PT30S</td>\n",
       "    </tr>\n",
       "    <tr>\n",
       "      <th>8</th>\n",
       "      <td>False</td>\n",
       "      <td>XY_2</td>\n",
       "      <td>PT30S</td>\n",
       "    </tr>\n",
       "    <tr>\n",
       "      <th>9</th>\n",
       "      <td>False</td>\n",
       "      <td>YC</td>\n",
       "      <td>PT30S</td>\n",
       "    </tr>\n",
       "    <tr>\n",
       "      <th>10</th>\n",
       "      <td>False</td>\n",
       "      <td>C1</td>\n",
       "      <td>PT30S</td>\n",
       "    </tr>\n",
       "    <tr>\n",
       "      <th>11</th>\n",
       "      <td>False</td>\n",
       "      <td>C2</td>\n",
       "      <td>PT30S</td>\n",
       "    </tr>\n",
       "    <tr>\n",
       "      <th>12</th>\n",
       "      <td>False</td>\n",
       "      <td>XC</td>\n",
       "      <td>PT30S</td>\n",
       "    </tr>\n",
       "  </tbody>\n",
       "</table>\n",
       "</div>"
      ],
      "text/plain": [
       "    following_allowed    id release_time\n",
       "0               False    A1        PT30S\n",
       "1               False    A2        PT30S\n",
       "2               False    A3        PT30S\n",
       "3               False    AB        PT30S\n",
       "4               False  BX_1        PT30S\n",
       "5               False     B        PT30S\n",
       "6               False  BX_2        PT30S\n",
       "7               False  XY_1        PT30S\n",
       "8               False  XY_2        PT30S\n",
       "9               False    YC        PT30S\n",
       "10              False    C1        PT30S\n",
       "11              False    C2        PT30S\n",
       "12              False    XC        PT30S"
      ]
     },
     "execution_count": 8,
     "metadata": {},
     "output_type": "execute_result"
    }
   ],
   "source": [
    "# resources"
   ]
  },
  {
   "cell_type": "code",
   "execution_count": 9,
   "metadata": {},
   "outputs": [],
   "source": [
    "# # Reading the json as a dict\n",
    "# with open('sample_files/sample_scenario_solution.json') as json_data:\n",
    "#     solution = json.load(json_data)"
   ]
  },
  {
   "cell_type": "code",
   "execution_count": 10,
   "metadata": {},
   "outputs": [],
   "source": [
    "# solution['train_runs'][0]"
   ]
  }
 ],
 "metadata": {
  "kernelspec": {
   "display_name": "Python 3",
   "language": "python",
   "name": "python3"
  },
  "language_info": {
   "codemirror_mode": {
    "name": "ipython",
    "version": 3
   },
   "file_extension": ".py",
   "mimetype": "text/x-python",
   "name": "python",
   "nbconvert_exporter": "python",
   "pygments_lexer": "ipython3",
   "version": "3.6.5"
  }
 },
 "nbformat": 4,
 "nbformat_minor": 2
}
